{
 "cells": [
  {
   "cell_type": "code",
   "execution_count": 1,
   "metadata": {
    "collapsed": false
   },
   "outputs": [],
   "source": [
    "import pandas as pd\n",
    "import numpy as np\n",
    "import sklearn as sk\n",
    "import scipy as scp\n",
    "import xgboost as xgb\n",
    "import matplotlib.pyplot as plt"
   ]
  },
  {
   "cell_type": "code",
   "execution_count": 2,
   "metadata": {
    "collapsed": false
   },
   "outputs": [],
   "source": [
    "train = pd.read_csv(\"train.csv\")\n",
    "test = pd.read_csv(\"test.csv\")"
   ]
  },
  {
   "cell_type": "code",
   "execution_count": 3,
   "metadata": {
    "collapsed": false,
    "scrolled": true
   },
   "outputs": [
    {
     "data": {
      "text/html": [
       "<div>\n",
       "<table border=\"1\" class=\"dataframe\">\n",
       "  <thead>\n",
       "    <tr style=\"text-align: right;\">\n",
       "      <th></th>\n",
       "      <th>ACTION</th>\n",
       "      <th>RESOURCE</th>\n",
       "      <th>MGR_ID</th>\n",
       "      <th>ROLE_ROLLUP_1</th>\n",
       "      <th>ROLE_ROLLUP_2</th>\n",
       "      <th>ROLE_DEPTNAME</th>\n",
       "      <th>ROLE_TITLE</th>\n",
       "      <th>ROLE_FAMILY_DESC</th>\n",
       "      <th>ROLE_FAMILY</th>\n",
       "      <th>ROLE_CODE</th>\n",
       "    </tr>\n",
       "  </thead>\n",
       "  <tbody>\n",
       "    <tr>\n",
       "      <th>0</th>\n",
       "      <td>1</td>\n",
       "      <td>39353</td>\n",
       "      <td>85475</td>\n",
       "      <td>117961</td>\n",
       "      <td>118300</td>\n",
       "      <td>123472</td>\n",
       "      <td>117905</td>\n",
       "      <td>117906</td>\n",
       "      <td>290919</td>\n",
       "      <td>117908</td>\n",
       "    </tr>\n",
       "    <tr>\n",
       "      <th>1</th>\n",
       "      <td>1</td>\n",
       "      <td>17183</td>\n",
       "      <td>1540</td>\n",
       "      <td>117961</td>\n",
       "      <td>118343</td>\n",
       "      <td>123125</td>\n",
       "      <td>118536</td>\n",
       "      <td>118536</td>\n",
       "      <td>308574</td>\n",
       "      <td>118539</td>\n",
       "    </tr>\n",
       "    <tr>\n",
       "      <th>2</th>\n",
       "      <td>1</td>\n",
       "      <td>36724</td>\n",
       "      <td>14457</td>\n",
       "      <td>118219</td>\n",
       "      <td>118220</td>\n",
       "      <td>117884</td>\n",
       "      <td>117879</td>\n",
       "      <td>267952</td>\n",
       "      <td>19721</td>\n",
       "      <td>117880</td>\n",
       "    </tr>\n",
       "    <tr>\n",
       "      <th>3</th>\n",
       "      <td>1</td>\n",
       "      <td>36135</td>\n",
       "      <td>5396</td>\n",
       "      <td>117961</td>\n",
       "      <td>118343</td>\n",
       "      <td>119993</td>\n",
       "      <td>118321</td>\n",
       "      <td>240983</td>\n",
       "      <td>290919</td>\n",
       "      <td>118322</td>\n",
       "    </tr>\n",
       "    <tr>\n",
       "      <th>4</th>\n",
       "      <td>1</td>\n",
       "      <td>42680</td>\n",
       "      <td>5905</td>\n",
       "      <td>117929</td>\n",
       "      <td>117930</td>\n",
       "      <td>119569</td>\n",
       "      <td>119323</td>\n",
       "      <td>123932</td>\n",
       "      <td>19793</td>\n",
       "      <td>119325</td>\n",
       "    </tr>\n",
       "  </tbody>\n",
       "</table>\n",
       "</div>"
      ],
      "text/plain": [
       "   ACTION  RESOURCE  MGR_ID  ROLE_ROLLUP_1  ROLE_ROLLUP_2  ROLE_DEPTNAME  \\\n",
       "0       1     39353   85475         117961         118300         123472   \n",
       "1       1     17183    1540         117961         118343         123125   \n",
       "2       1     36724   14457         118219         118220         117884   \n",
       "3       1     36135    5396         117961         118343         119993   \n",
       "4       1     42680    5905         117929         117930         119569   \n",
       "\n",
       "   ROLE_TITLE  ROLE_FAMILY_DESC  ROLE_FAMILY  ROLE_CODE  \n",
       "0      117905            117906       290919     117908  \n",
       "1      118536            118536       308574     118539  \n",
       "2      117879            267952        19721     117880  \n",
       "3      118321            240983       290919     118322  \n",
       "4      119323            123932        19793     119325  "
      ]
     },
     "execution_count": 3,
     "metadata": {},
     "output_type": "execute_result"
    }
   ],
   "source": [
    "train.head()"
   ]
  },
  {
   "cell_type": "code",
   "execution_count": 4,
   "metadata": {
    "collapsed": false
   },
   "outputs": [
    {
     "data": {
      "text/html": [
       "<div>\n",
       "<table border=\"1\" class=\"dataframe\">\n",
       "  <thead>\n",
       "    <tr style=\"text-align: right;\">\n",
       "      <th></th>\n",
       "      <th>id</th>\n",
       "      <th>RESOURCE</th>\n",
       "      <th>MGR_ID</th>\n",
       "      <th>ROLE_ROLLUP_1</th>\n",
       "      <th>ROLE_ROLLUP_2</th>\n",
       "      <th>ROLE_DEPTNAME</th>\n",
       "      <th>ROLE_TITLE</th>\n",
       "      <th>ROLE_FAMILY_DESC</th>\n",
       "      <th>ROLE_FAMILY</th>\n",
       "      <th>ROLE_CODE</th>\n",
       "    </tr>\n",
       "  </thead>\n",
       "  <tbody>\n",
       "    <tr>\n",
       "      <th>0</th>\n",
       "      <td>1</td>\n",
       "      <td>78766</td>\n",
       "      <td>72734</td>\n",
       "      <td>118079</td>\n",
       "      <td>118080</td>\n",
       "      <td>117878</td>\n",
       "      <td>117879</td>\n",
       "      <td>118177</td>\n",
       "      <td>19721</td>\n",
       "      <td>117880</td>\n",
       "    </tr>\n",
       "    <tr>\n",
       "      <th>1</th>\n",
       "      <td>2</td>\n",
       "      <td>40644</td>\n",
       "      <td>4378</td>\n",
       "      <td>117961</td>\n",
       "      <td>118327</td>\n",
       "      <td>118507</td>\n",
       "      <td>118863</td>\n",
       "      <td>122008</td>\n",
       "      <td>118398</td>\n",
       "      <td>118865</td>\n",
       "    </tr>\n",
       "    <tr>\n",
       "      <th>2</th>\n",
       "      <td>3</td>\n",
       "      <td>75443</td>\n",
       "      <td>2395</td>\n",
       "      <td>117961</td>\n",
       "      <td>118300</td>\n",
       "      <td>119488</td>\n",
       "      <td>118172</td>\n",
       "      <td>301534</td>\n",
       "      <td>249618</td>\n",
       "      <td>118175</td>\n",
       "    </tr>\n",
       "    <tr>\n",
       "      <th>3</th>\n",
       "      <td>4</td>\n",
       "      <td>43219</td>\n",
       "      <td>19986</td>\n",
       "      <td>117961</td>\n",
       "      <td>118225</td>\n",
       "      <td>118403</td>\n",
       "      <td>120773</td>\n",
       "      <td>136187</td>\n",
       "      <td>118960</td>\n",
       "      <td>120774</td>\n",
       "    </tr>\n",
       "    <tr>\n",
       "      <th>4</th>\n",
       "      <td>5</td>\n",
       "      <td>42093</td>\n",
       "      <td>50015</td>\n",
       "      <td>117961</td>\n",
       "      <td>118343</td>\n",
       "      <td>119598</td>\n",
       "      <td>118422</td>\n",
       "      <td>300136</td>\n",
       "      <td>118424</td>\n",
       "      <td>118425</td>\n",
       "    </tr>\n",
       "  </tbody>\n",
       "</table>\n",
       "</div>"
      ],
      "text/plain": [
       "   id  RESOURCE  MGR_ID  ROLE_ROLLUP_1  ROLE_ROLLUP_2  ROLE_DEPTNAME  \\\n",
       "0   1     78766   72734         118079         118080         117878   \n",
       "1   2     40644    4378         117961         118327         118507   \n",
       "2   3     75443    2395         117961         118300         119488   \n",
       "3   4     43219   19986         117961         118225         118403   \n",
       "4   5     42093   50015         117961         118343         119598   \n",
       "\n",
       "   ROLE_TITLE  ROLE_FAMILY_DESC  ROLE_FAMILY  ROLE_CODE  \n",
       "0      117879            118177        19721     117880  \n",
       "1      118863            122008       118398     118865  \n",
       "2      118172            301534       249618     118175  \n",
       "3      120773            136187       118960     120774  \n",
       "4      118422            300136       118424     118425  "
      ]
     },
     "execution_count": 4,
     "metadata": {},
     "output_type": "execute_result"
    }
   ],
   "source": [
    "test.head()"
   ]
  },
  {
   "cell_type": "code",
   "execution_count": 5,
   "metadata": {
    "collapsed": false
   },
   "outputs": [
    {
     "data": {
      "text/plain": [
       "0        1\n",
       "1        1\n",
       "2        1\n",
       "3        1\n",
       "4        1\n",
       "5        0\n",
       "6        1\n",
       "7        1\n",
       "8        1\n",
       "9        1\n",
       "10       1\n",
       "11       1\n",
       "12       1\n",
       "13       1\n",
       "14       1\n",
       "15       1\n",
       "16       1\n",
       "17       1\n",
       "18       1\n",
       "19       1\n",
       "20       1\n",
       "21       1\n",
       "22       1\n",
       "23       1\n",
       "24       1\n",
       "25       1\n",
       "26       1\n",
       "27       1\n",
       "28       1\n",
       "29       1\n",
       "        ..\n",
       "32739    1\n",
       "32740    1\n",
       "32741    1\n",
       "32742    1\n",
       "32743    1\n",
       "32744    1\n",
       "32745    1\n",
       "32746    1\n",
       "32747    1\n",
       "32748    1\n",
       "32749    1\n",
       "32750    1\n",
       "32751    1\n",
       "32752    1\n",
       "32753    1\n",
       "32754    1\n",
       "32755    1\n",
       "32756    1\n",
       "32757    1\n",
       "32758    1\n",
       "32759    1\n",
       "32760    1\n",
       "32761    1\n",
       "32762    1\n",
       "32763    1\n",
       "32764    1\n",
       "32765    1\n",
       "32766    1\n",
       "32767    1\n",
       "32768    1\n",
       "Name: ACTION, dtype: int64"
      ]
     },
     "execution_count": 5,
     "metadata": {},
     "output_type": "execute_result"
    }
   ],
   "source": [
    "train['ACTION']"
   ]
  },
  {
   "cell_type": "code",
   "execution_count": 6,
   "metadata": {
    "collapsed": true
   },
   "outputs": [],
   "source": [
    "from sklearn.linear_model import LogisticRegressionCV"
   ]
  },
  {
   "cell_type": "code",
   "execution_count": 7,
   "metadata": {
    "collapsed": true
   },
   "outputs": [],
   "source": [
    "Cs = [0.0005, 0.001, 0.01, 0.1, 1, 3, 5, 10, 20, 50]\n",
    "lg = LogisticRegressionCV()"
   ]
  },
  {
   "cell_type": "code",
   "execution_count": 8,
   "metadata": {
    "collapsed": false,
    "scrolled": true
   },
   "outputs": [
    {
     "name": "stdout",
     "output_type": "stream",
     "text": [
      "(32769, 10)\n",
      "(32769,)\n",
      "(32769, 9)\n"
     ]
    },
    {
     "data": {
      "text/plain": [
       "LogisticRegressionCV(Cs=10, class_weight=None, cv=None, dual=False,\n",
       "           fit_intercept=True, intercept_scaling=1.0, max_iter=100,\n",
       "           multi_class='ovr', n_jobs=1, penalty='l2', random_state=None,\n",
       "           refit=True, scoring=None, solver='lbfgs', tol=0.0001, verbose=0)"
      ]
     },
     "execution_count": 8,
     "metadata": {},
     "output_type": "execute_result"
    }
   ],
   "source": [
    "tr_data = train.values\n",
    "y = tr_data[:, 0]\n",
    "x = tr_data[:, 1:]\n",
    "print tr_data.shape\n",
    "print y.shape\n",
    "print x.shape\n",
    "lg.fit(x, y)"
   ]
  },
  {
   "cell_type": "code",
   "execution_count": 9,
   "metadata": {
    "collapsed": false
   },
   "outputs": [
    {
     "name": "stdout",
     "output_type": "stream",
     "text": [
      "(58921, 9)\n",
      "[ 1  2  3  4  5  6  7  8  9 10]\n"
     ]
    }
   ],
   "source": [
    "te_data = test.values[:, 1:]\n",
    "print te_data.shape\n",
    "lgbase_pred = lg.predict(te_data)\n",
    "id = test.values[:, 0]\n",
    "print id[0:10]"
   ]
  },
  {
   "cell_type": "code",
   "execution_count": 10,
   "metadata": {
    "collapsed": false
   },
   "outputs": [
    {
     "data": {
      "text/plain": [
       "(58921,)"
      ]
     },
     "execution_count": 10,
     "metadata": {},
     "output_type": "execute_result"
    }
   ],
   "source": [
    "lgbase_pred.shape"
   ]
  },
  {
   "cell_type": "code",
   "execution_count": 11,
   "metadata": {
    "collapsed": false
   },
   "outputs": [
    {
     "data": {
      "text/plain": [
       "(58921,)"
      ]
     },
     "execution_count": 11,
     "metadata": {},
     "output_type": "execute_result"
    }
   ],
   "source": [
    "id.shape"
   ]
  },
  {
   "cell_type": "code",
   "execution_count": 12,
   "metadata": {
    "collapsed": false
   },
   "outputs": [],
   "source": [
    "lgbase_sub = {'id':id, 'ACTION': lgbase_pred}\n",
    "lgbase_sub = pd.DataFrame(data = lgbase_sub, columns=['id', 'ACTION'])"
   ]
  },
  {
   "cell_type": "code",
   "execution_count": 13,
   "metadata": {
    "collapsed": false
   },
   "outputs": [],
   "source": [
    "lgbase_sub.to_csv('lgbase_pred', index = False)"
   ]
  },
  {
   "cell_type": "code",
   "execution_count": 14,
   "metadata": {
    "collapsed": false
   },
   "outputs": [
    {
     "data": {
      "text/html": [
       "<div>\n",
       "<table border=\"1\" class=\"dataframe\">\n",
       "  <thead>\n",
       "    <tr style=\"text-align: right;\">\n",
       "      <th></th>\n",
       "      <th>id</th>\n",
       "      <th>ACTION</th>\n",
       "    </tr>\n",
       "  </thead>\n",
       "  <tbody>\n",
       "    <tr>\n",
       "      <th>0</th>\n",
       "      <td>1</td>\n",
       "      <td>1</td>\n",
       "    </tr>\n",
       "    <tr>\n",
       "      <th>1</th>\n",
       "      <td>2</td>\n",
       "      <td>1</td>\n",
       "    </tr>\n",
       "    <tr>\n",
       "      <th>2</th>\n",
       "      <td>3</td>\n",
       "      <td>1</td>\n",
       "    </tr>\n",
       "    <tr>\n",
       "      <th>3</th>\n",
       "      <td>4</td>\n",
       "      <td>1</td>\n",
       "    </tr>\n",
       "    <tr>\n",
       "      <th>4</th>\n",
       "      <td>5</td>\n",
       "      <td>1</td>\n",
       "    </tr>\n",
       "  </tbody>\n",
       "</table>\n",
       "</div>"
      ],
      "text/plain": [
       "   id  ACTION\n",
       "0   1       1\n",
       "1   2       1\n",
       "2   3       1\n",
       "3   4       1\n",
       "4   5       1"
      ]
     },
     "execution_count": 14,
     "metadata": {},
     "output_type": "execute_result"
    }
   ],
   "source": [
    "lgbase_sub.head()"
   ]
  },
  {
   "cell_type": "code",
   "execution_count": 15,
   "metadata": {
    "collapsed": false
   },
   "outputs": [],
   "source": [
    "count0 = 0\n",
    "count1 = 0\n",
    "for i in lgbase_pred:\n",
    "    if i == 0:count0 +=1\n",
    "    if i == 1: count1 += 1"
   ]
  },
  {
   "cell_type": "code",
   "execution_count": 16,
   "metadata": {
    "collapsed": false
   },
   "outputs": [
    {
     "data": {
      "text/plain": [
       "0"
      ]
     },
     "execution_count": 16,
     "metadata": {},
     "output_type": "execute_result"
    }
   ],
   "source": [
    "count0"
   ]
  },
  {
   "cell_type": "code",
   "execution_count": 17,
   "metadata": {
    "collapsed": false
   },
   "outputs": [
    {
     "data": {
      "text/plain": [
       "58921"
      ]
     },
     "execution_count": 17,
     "metadata": {},
     "output_type": "execute_result"
    }
   ],
   "source": [
    "count1"
   ]
  },
  {
   "cell_type": "markdown",
   "metadata": {},
   "source": [
    "As you can see, the base logistic regression model returned a prediction of all \"1's\".  After submitting to Kaggle, we got a score of .5"
   ]
  },
  {
   "cell_type": "markdown",
   "metadata": {},
   "source": [
    "Time to try one hot encoding."
   ]
  },
  {
   "cell_type": "code",
   "execution_count": 18,
   "metadata": {
    "collapsed": true
   },
   "outputs": [],
   "source": [
    "from sklearn import preprocessing"
   ]
  },
  {
   "cell_type": "code",
   "execution_count": 19,
   "metadata": {
    "collapsed": false
   },
   "outputs": [],
   "source": [
    "encoder = preprocessing.OneHotEncoder()\n",
    "onehot = np.vstack((x, te_data))\n",
    "onehot = encoder.fit_transform(onehot)"
   ]
  },
  {
   "cell_type": "code",
   "execution_count": 20,
   "metadata": {
    "collapsed": true
   },
   "outputs": [],
   "source": [
    "onehot_train = onehot[0:tr_data.shape[0], :]\n",
    "onehot_test = onehot[tr_data.shape[0]:, :]"
   ]
  },
  {
   "cell_type": "code",
   "execution_count": 21,
   "metadata": {
    "collapsed": false
   },
   "outputs": [
    {
     "data": {
      "text/plain": [
       "(32769, 16961)"
      ]
     },
     "execution_count": 21,
     "metadata": {},
     "output_type": "execute_result"
    }
   ],
   "source": [
    "onehot_train.shape"
   ]
  },
  {
   "cell_type": "code",
   "execution_count": 22,
   "metadata": {
    "collapsed": false
   },
   "outputs": [
    {
     "data": {
      "text/plain": [
       "(58921, 16961)"
      ]
     },
     "execution_count": 22,
     "metadata": {},
     "output_type": "execute_result"
    }
   ],
   "source": [
    "onehot_test.shape"
   ]
  },
  {
   "cell_type": "code",
   "execution_count": 23,
   "metadata": {
    "collapsed": false
   },
   "outputs": [
    {
     "data": {
      "text/plain": [
       "(32769, 9)"
      ]
     },
     "execution_count": 23,
     "metadata": {},
     "output_type": "execute_result"
    }
   ],
   "source": [
    "x.shape"
   ]
  },
  {
   "cell_type": "code",
   "execution_count": 24,
   "metadata": {
    "collapsed": false
   },
   "outputs": [
    {
     "data": {
      "text/plain": [
       "(58921, 9)"
      ]
     },
     "execution_count": 24,
     "metadata": {},
     "output_type": "execute_result"
    }
   ],
   "source": [
    "te_data.shape"
   ]
  },
  {
   "cell_type": "code",
   "execution_count": 25,
   "metadata": {
    "collapsed": true
   },
   "outputs": [],
   "source": [
    "def get_submission(x, name):\n",
    "    sub = {'id':id, 'ACTION':x}\n",
    "    sub = pd.DataFrame(data=sub, columns=['id', 'ACTION'])\n",
    "    sub.to_csv(name, index=False)"
   ]
  },
  {
   "cell_type": "markdown",
   "metadata": {},
   "source": [
    "Now logistic regression on this data."
   ]
  },
  {
   "cell_type": "code",
   "execution_count": 26,
   "metadata": {
    "collapsed": true
   },
   "outputs": [],
   "source": [
    "lg_onehot = LogisticRegressionCV(Cs=Cs)\n",
    "lg_onehot.fit(onehot_train, y)\n",
    "onehot_preds = lg_onehot.predict(onehot_test)"
   ]
  },
  {
   "cell_type": "code",
   "execution_count": 27,
   "metadata": {
    "collapsed": false
   },
   "outputs": [],
   "source": [
    "onehot_sub = {'id':id, 'ACTION':onehot_preds}\n",
    "onehot_sub = pd.DataFrame(data=onehot_sub, columns=['id', 'ACTION'])\n",
    "onehot_sub.to_csv('onehot_sub', index=False)"
   ]
  },
  {
   "cell_type": "markdown",
   "metadata": {},
   "source": [
    "We got a 0.6375, which is a significant jump. Now lets start boosting."
   ]
  },
  {
   "cell_type": "code",
   "execution_count": 28,
   "metadata": {
    "collapsed": false
   },
   "outputs": [],
   "source": [
    "from sklearn.tree import DecisionTreeRegressor\n",
    "tree = DecisionTreeRegressor()"
   ]
  },
  {
   "cell_type": "code",
   "execution_count": 29,
   "metadata": {
    "collapsed": false
   },
   "outputs": [
    {
     "data": {
      "text/plain": [
       "DecisionTreeRegressor(criterion='mse', max_depth=None, max_features=None,\n",
       "           max_leaf_nodes=None, min_impurity_split=1e-07,\n",
       "           min_samples_leaf=1, min_samples_split=2,\n",
       "           min_weight_fraction_leaf=0.0, presort=False, random_state=None,\n",
       "           splitter='best')"
      ]
     },
     "execution_count": 29,
     "metadata": {},
     "output_type": "execute_result"
    }
   ],
   "source": [
    "tree.fit(onehot_train, y)"
   ]
  },
  {
   "cell_type": "code",
   "execution_count": 30,
   "metadata": {
    "collapsed": true
   },
   "outputs": [],
   "source": [
    "tree_preds = tree.predict(onehot_test)\n",
    "get_submission(tree_preds, 'tree_preds')"
   ]
  },
  {
   "cell_type": "code",
   "execution_count": 31,
   "metadata": {
    "collapsed": true
   },
   "outputs": [],
   "source": [
    "#how kaggle computes a score\n",
    "from sklearn import metrics\n",
    "def evaluate(preds, true_labels):\n",
    "    fpr, tpr, thresholds = metrics.roc_curve(true_labels, preds, pos_label=1)\n",
    "    auc = metrics.auc(fpr,tpr)\n",
    "    return auc"
   ]
  },
  {
   "cell_type": "markdown",
   "metadata": {},
   "source": [
    "I read up on Paul Duan's methodology. He recommends removing role 1 and role 2, due to hig variance created by these. Besides that, he doesn't worry too much about feature selection, but says feature extraction is more important. He combines different models, each using a different feature set."
   ]
  },
  {
   "cell_type": "code",
   "execution_count": 32,
   "metadata": {
    "collapsed": false
   },
   "outputs": [
    {
     "name": "stderr",
     "output_type": "stream",
     "text": [
      "/home/justin/anaconda2/lib/python2.7/site-packages/matplotlib/font_manager.py:1297: UserWarning: findfont: Font family [u'xkcd', u'Humor Sans', u'Comic Sans MS'] not found. Falling back to DejaVu Sans\n",
      "  (prop.get_family(), self.defaultFamily[fontext]))\n"
     ]
    },
    {
     "data": {
      "image/png": "[encoded data removed]",
      "text/plain": [
       "<matplotlib.figure.Figure at 0x7fa1d5a3f3d0>"
      ]
     },
     "metadata": {},
     "output_type": "display_data"
    }
   ],
   "source": [
    "#first thing first, look at the data\n",
    "plt.xkcd() #makes graphs look better\n",
    "plt.hist(train['ACTION'])\n",
    "plt.show()"
   ]
  },
  {
   "cell_type": "markdown",
   "metadata": {},
   "source": [
    "It appears as if most predictions should be a 1. However, our first submission shows that the test set has many more zeroes than the train set."
   ]
  },
  {
   "cell_type": "markdown",
   "metadata": {},
   "source": [
    "Get rid of bad columns."
   ]
  },
  {
   "cell_type": "code",
   "execution_count": 33,
   "metadata": {
    "collapsed": false
   },
   "outputs": [
    {
     "data": {
      "text/html": [
       "<div>\n",
       "<table border=\"1\" class=\"dataframe\">\n",
       "  <thead>\n",
       "    <tr style=\"text-align: right;\">\n",
       "      <th></th>\n",
       "      <th>ACTION</th>\n",
       "      <th>RESOURCE</th>\n",
       "      <th>MGR_ID</th>\n",
       "      <th>ROLE_DEPTNAME</th>\n",
       "      <th>ROLE_TITLE</th>\n",
       "      <th>ROLE_FAMILY_DESC</th>\n",
       "      <th>ROLE_FAMILY</th>\n",
       "      <th>ROLE_CODE</th>\n",
       "    </tr>\n",
       "  </thead>\n",
       "  <tbody>\n",
       "    <tr>\n",
       "      <th>0</th>\n",
       "      <td>1</td>\n",
       "      <td>39353</td>\n",
       "      <td>85475</td>\n",
       "      <td>123472</td>\n",
       "      <td>117905</td>\n",
       "      <td>117906</td>\n",
       "      <td>290919</td>\n",
       "      <td>117908</td>\n",
       "    </tr>\n",
       "    <tr>\n",
       "      <th>1</th>\n",
       "      <td>1</td>\n",
       "      <td>17183</td>\n",
       "      <td>1540</td>\n",
       "      <td>123125</td>\n",
       "      <td>118536</td>\n",
       "      <td>118536</td>\n",
       "      <td>308574</td>\n",
       "      <td>118539</td>\n",
       "    </tr>\n",
       "    <tr>\n",
       "      <th>2</th>\n",
       "      <td>1</td>\n",
       "      <td>36724</td>\n",
       "      <td>14457</td>\n",
       "      <td>117884</td>\n",
       "      <td>117879</td>\n",
       "      <td>267952</td>\n",
       "      <td>19721</td>\n",
       "      <td>117880</td>\n",
       "    </tr>\n",
       "    <tr>\n",
       "      <th>3</th>\n",
       "      <td>1</td>\n",
       "      <td>36135</td>\n",
       "      <td>5396</td>\n",
       "      <td>119993</td>\n",
       "      <td>118321</td>\n",
       "      <td>240983</td>\n",
       "      <td>290919</td>\n",
       "      <td>118322</td>\n",
       "    </tr>\n",
       "    <tr>\n",
       "      <th>4</th>\n",
       "      <td>1</td>\n",
       "      <td>42680</td>\n",
       "      <td>5905</td>\n",
       "      <td>119569</td>\n",
       "      <td>119323</td>\n",
       "      <td>123932</td>\n",
       "      <td>19793</td>\n",
       "      <td>119325</td>\n",
       "    </tr>\n",
       "  </tbody>\n",
       "</table>\n",
       "</div>"
      ],
      "text/plain": [
       "   ACTION  RESOURCE  MGR_ID  ROLE_DEPTNAME  ROLE_TITLE  ROLE_FAMILY_DESC  \\\n",
       "0       1     39353   85475         123472      117905            117906   \n",
       "1       1     17183    1540         123125      118536            118536   \n",
       "2       1     36724   14457         117884      117879            267952   \n",
       "3       1     36135    5396         119993      118321            240983   \n",
       "4       1     42680    5905         119569      119323            123932   \n",
       "\n",
       "   ROLE_FAMILY  ROLE_CODE  \n",
       "0       290919     117908  \n",
       "1       308574     118539  \n",
       "2        19721     117880  \n",
       "3       290919     118322  \n",
       "4        19793     119325  "
      ]
     },
     "execution_count": 33,
     "metadata": {},
     "output_type": "execute_result"
    }
   ],
   "source": [
    "del train['ROLE_ROLLUP_1']\n",
    "del train['ROLE_ROLLUP_2']\n",
    "train.head()"
   ]
  },
  {
   "cell_type": "code",
   "execution_count": 34,
   "metadata": {
    "collapsed": false
   },
   "outputs": [
    {
     "data": {
      "text/html": [
       "<div>\n",
       "<table border=\"1\" class=\"dataframe\">\n",
       "  <thead>\n",
       "    <tr style=\"text-align: right;\">\n",
       "      <th></th>\n",
       "      <th>id</th>\n",
       "      <th>RESOURCE</th>\n",
       "      <th>MGR_ID</th>\n",
       "      <th>ROLE_DEPTNAME</th>\n",
       "      <th>ROLE_TITLE</th>\n",
       "      <th>ROLE_FAMILY_DESC</th>\n",
       "      <th>ROLE_FAMILY</th>\n",
       "      <th>ROLE_CODE</th>\n",
       "    </tr>\n",
       "  </thead>\n",
       "  <tbody>\n",
       "    <tr>\n",
       "      <th>0</th>\n",
       "      <td>1</td>\n",
       "      <td>78766</td>\n",
       "      <td>72734</td>\n",
       "      <td>117878</td>\n",
       "      <td>117879</td>\n",
       "      <td>118177</td>\n",
       "      <td>19721</td>\n",
       "      <td>117880</td>\n",
       "    </tr>\n",
       "    <tr>\n",
       "      <th>1</th>\n",
       "      <td>2</td>\n",
       "      <td>40644</td>\n",
       "      <td>4378</td>\n",
       "      <td>118507</td>\n",
       "      <td>118863</td>\n",
       "      <td>122008</td>\n",
       "      <td>118398</td>\n",
       "      <td>118865</td>\n",
       "    </tr>\n",
       "    <tr>\n",
       "      <th>2</th>\n",
       "      <td>3</td>\n",
       "      <td>75443</td>\n",
       "      <td>2395</td>\n",
       "      <td>119488</td>\n",
       "      <td>118172</td>\n",
       "      <td>301534</td>\n",
       "      <td>249618</td>\n",
       "      <td>118175</td>\n",
       "    </tr>\n",
       "    <tr>\n",
       "      <th>3</th>\n",
       "      <td>4</td>\n",
       "      <td>43219</td>\n",
       "      <td>19986</td>\n",
       "      <td>118403</td>\n",
       "      <td>120773</td>\n",
       "      <td>136187</td>\n",
       "      <td>118960</td>\n",
       "      <td>120774</td>\n",
       "    </tr>\n",
       "    <tr>\n",
       "      <th>4</th>\n",
       "      <td>5</td>\n",
       "      <td>42093</td>\n",
       "      <td>50015</td>\n",
       "      <td>119598</td>\n",
       "      <td>118422</td>\n",
       "      <td>300136</td>\n",
       "      <td>118424</td>\n",
       "      <td>118425</td>\n",
       "    </tr>\n",
       "  </tbody>\n",
       "</table>\n",
       "</div>"
      ],
      "text/plain": [
       "   id  RESOURCE  MGR_ID  ROLE_DEPTNAME  ROLE_TITLE  ROLE_FAMILY_DESC  \\\n",
       "0   1     78766   72734         117878      117879            118177   \n",
       "1   2     40644    4378         118507      118863            122008   \n",
       "2   3     75443    2395         119488      118172            301534   \n",
       "3   4     43219   19986         118403      120773            136187   \n",
       "4   5     42093   50015         119598      118422            300136   \n",
       "\n",
       "   ROLE_FAMILY  ROLE_CODE  \n",
       "0        19721     117880  \n",
       "1       118398     118865  \n",
       "2       249618     118175  \n",
       "3       118960     120774  \n",
       "4       118424     118425  "
      ]
     },
     "execution_count": 34,
     "metadata": {},
     "output_type": "execute_result"
    }
   ],
   "source": [
    "del test['ROLE_ROLLUP_1']\n",
    "del test['ROLE_ROLLUP_2']\n",
    "test.head()"
   ]
  },
  {
   "cell_type": "markdown",
   "metadata": {},
   "source": [
    "We will assume these new datasets are better bases for classification."
   ]
  },
  {
   "cell_type": "code",
   "execution_count": 35,
   "metadata": {
    "collapsed": false
   },
   "outputs": [],
   "source": [
    "#From Paul Duan\n",
    "def create_tuples(X):\n",
    "    cols = []\n",
    "    for i in range(X.shape[1]):\n",
    "        for j in range(i, X.shape[1]):\n",
    "            cols.append(X[:, i] + X[:, j]*3571)\n",
    "    return np.hstack((X, np.vstack(cols).T))\n",
    "\n",
    "\n",
    "def create_triples(X):\n",
    "    cols = []\n",
    "    for i in range(X.shape[1]):\n",
    "        for j in range(i, X.shape[1]):\n",
    "            for k in range(j, X.shape[1]):\n",
    "                cols.append(X[:, i]*3461 + X[:, j]*5483 + X[:, k])\n",
    "    return np.hstack((X, np.vstack(cols).T))\n",
    "\n",
    "#mine\n",
    "def onehot(x, y):\n",
    "    enc = preprocessing.OneHotEncoder()\n",
    "    enc.fit(np.vstack((x, y)))\n",
    "    return enc.transform(x), enc.transform(y)"
   ]
  },
  {
   "cell_type": "code",
   "execution_count": 36,
   "metadata": {
    "collapsed": false
   },
   "outputs": [],
   "source": [
    "#try to make a tuple\n",
    "tr_x = train.values[:, 1:]\n",
    "tuple_x = create_tuples(np.vstack((tr_x, test.values[:, 1:])))"
   ]
  },
  {
   "cell_type": "code",
   "execution_count": 37,
   "metadata": {
    "collapsed": false
   },
   "outputs": [
    {
     "data": {
      "text/plain": [
       "(91690, 35)"
      ]
     },
     "execution_count": 37,
     "metadata": {},
     "output_type": "execute_result"
    }
   ],
   "source": [
    "tuple_x.shape"
   ]
  },
  {
   "cell_type": "code",
   "execution_count": 38,
   "metadata": {
    "collapsed": false
   },
   "outputs": [
    {
     "data": {
      "text/plain": [
       "(32769, 7)"
      ]
     },
     "execution_count": 38,
     "metadata": {},
     "output_type": "execute_result"
    }
   ],
   "source": [
    "tr_x.shape"
   ]
  },
  {
   "cell_type": "code",
   "execution_count": 39,
   "metadata": {
    "collapsed": false
   },
   "outputs": [
    {
     "name": "stdout",
     "output_type": "stream",
     "text": [
      "(32769, 35)\n",
      "(58921, 35)\n"
     ]
    }
   ],
   "source": [
    "tr_x = tuple_x[0:tr_x.shape[0], :]\n",
    "te_x = tuple_x[tr_x.shape[0]:, :]\n",
    "print tr_x.shape\n",
    "print te_x.shape"
   ]
  },
  {
   "cell_type": "code",
   "execution_count": 40,
   "metadata": {
    "collapsed": false
   },
   "outputs": [],
   "source": [
    "#so we will use the smaller dataset\n",
    "enc = sk.preprocessing.OneHotEncoder()\n",
    "y = train.values[:, 0]\n",
    "tr_x = train.values[:, 1:]\n",
    "test_x = test.values[:, 1:]\n",
    "enc.fit(np.vstack((tr_x, test_x)))\n",
    "tr_x = enc.transform(tr_x)\n",
    "test_x_fin = enc.transform(test_x)"
   ]
  },
  {
   "cell_type": "code",
   "execution_count": 41,
   "metadata": {
    "collapsed": true
   },
   "outputs": [],
   "source": [
    "#tuptrain_x = tuple_x[0:tr_x.shape[0], :]\n",
    "#tuptest_x = tuple_x[tr_x.shape[0]:, :]"
   ]
  },
  {
   "cell_type": "code",
   "execution_count": 42,
   "metadata": {
    "collapsed": false
   },
   "outputs": [
    {
     "name": "stdout",
     "output_type": "stream",
     "text": [
      "<class 'scipy.sparse.csr.csr_matrix'>\n"
     ]
    },
    {
     "data": {
      "text/plain": [
       "scipy.sparse.csr.csr_matrix"
      ]
     },
     "execution_count": 42,
     "metadata": {},
     "output_type": "execute_result"
    }
   ],
   "source": [
    "seed = 42\n",
    "test_size = .20\n",
    "#y_frame = train['ACTION']\n",
    "#x_frame =train\n",
    "#del x_frame['ACTION']\n",
    "#x_frame = enc.transform(x_frame)\n",
    "print type(tr_x)\n",
    "x_train, x_test, y_train, y_test = sk.model_selection.train_test_split(tr_x, y, test_size=test_size, random_state=seed)\n",
    "type(x_train)"
   ]
  },
  {
   "cell_type": "code",
   "execution_count": 43,
   "metadata": {
    "collapsed": false
   },
   "outputs": [
    {
     "data": {
      "text/plain": [
       "XGBClassifier(base_score=0.5, colsample_bylevel=1, colsample_bytree=1,\n",
       "       gamma=0, learning_rate=0.1, max_delta_step=0, max_depth=3,\n",
       "       min_child_weight=1, missing=None, n_estimators=100, nthread=-1,\n",
       "       objective='binary:logistic', reg_alpha=0, reg_lambda=1,\n",
       "       scale_pos_weight=1, seed=0, silent=True, subsample=1)"
      ]
     },
     "execution_count": 43,
     "metadata": {},
     "output_type": "execute_result"
    }
   ],
   "source": [
    "#x_train = np.ndarray(x_train)\n",
    "#print x_train\n",
    "#x_train = np.hstack((x_train, (np.ones(x_train.shape[0], 1))))\n",
    "#x_test = scp.hstack((x_test, scp.sparse.csr_matrix(np.ones(x_train.shape[0], 1))))\n",
    "#x_test = np.ndarray(x_test)\n",
    "#boosting\n",
    "xgbmodel = xgb.XGBClassifier()\n",
    "xgbmodel.fit(x_train,y_train)"
   ]
  },
  {
   "cell_type": "code",
   "execution_count": 44,
   "metadata": {
    "collapsed": false
   },
   "outputs": [
    {
     "name": "stdout",
     "output_type": "stream",
     "text": [
      "(26215, 16648)\n",
      "(6554, 16648)\n",
      "(26215,)\n"
     ]
    }
   ],
   "source": [
    "print x_train.shape\n",
    "print x_test.shape\n",
    "print y_train.shape\n"
   ]
  },
  {
   "cell_type": "code",
   "execution_count": 45,
   "metadata": {
    "collapsed": false
   },
   "outputs": [
    {
     "data": {
      "text/plain": [
       "(26215, 16648)"
      ]
     },
     "execution_count": 45,
     "metadata": {},
     "output_type": "execute_result"
    }
   ],
   "source": [
    "coo = x_test.tocoo(copy=False)\n",
    "x_test_df = pd.DataFrame({'index':coo.row, 'col':coo.col, 'data':coo.data})[['index', 'col', 'data']].sort_values(['index', 'col']).reset_index(drop=True)\n",
    "#print x_test1\n",
    "x_train.shape"
   ]
  },
  {
   "cell_type": "code",
   "execution_count": 46,
   "metadata": {
    "collapsed": false,
    "scrolled": true
   },
   "outputs": [],
   "source": [
    "xgb_preds = xgbmodel.predict(x_test)"
   ]
  },
  {
   "cell_type": "code",
   "execution_count": 47,
   "metadata": {
    "collapsed": false
   },
   "outputs": [
    {
     "data": {
      "text/plain": [
       "(6554,)"
      ]
     },
     "execution_count": 47,
     "metadata": {},
     "output_type": "execute_result"
    }
   ],
   "source": [
    "xgb_preds.shape"
   ]
  },
  {
   "cell_type": "markdown",
   "metadata": {},
   "source": [
    "Basically, XGBoost drops a few columns because they are all zeroes. This breaks the model. This sucks, as any model is basically useless without onehot encoding. Supposedly, the developers fixed this in the newest version. However, I could not install that version. (Trust me, I tried before I gave up and used pip, which stil took significant troubleshooting.) \n",
    "\n",
    "\n",
    "If this worked, I could generate a score using the returned xgb_preds and y_test values. (The score generation algorithm is available on kaggle.) Then I could manipulate the XGBoost model to try to get a better score, and submit my best scoring model. Unfortunatley, the developers of XGBoost had a different vision in mind when they built their software. A vision of hopelessness and despair."
   ]
  },
  {
   "cell_type": "markdown",
   "metadata": {
    "collapsed": true
   },
   "source": [
    "So I reinstalled and now it works. Time to start boosting for real"
   ]
  },
  {
   "cell_type": "code",
   "execution_count": 48,
   "metadata": {
    "collapsed": false
   },
   "outputs": [
    {
     "data": {
      "text/plain": [
       "0.50804924055707812"
      ]
     },
     "execution_count": 48,
     "metadata": {},
     "output_type": "execute_result"
    }
   ],
   "source": [
    "#test accuracy\n",
    "evaluate(xgb_preds, y_test)"
   ]
  },
  {
   "cell_type": "markdown",
   "metadata": {},
   "source": [
    "This is actually worse. Time to start playing with the model."
   ]
  },
  {
   "cell_type": "code",
   "execution_count": 49,
   "metadata": {
    "collapsed": false
   },
   "outputs": [
    {
     "data": {
      "text/plain": [
       "0.87241748166259181"
      ]
     },
     "execution_count": 49,
     "metadata": {},
     "output_type": "execute_result"
    }
   ],
   "source": [
    "#smaller trees, less estimators\n",
    "xgb2 = xgb.XGBClassifier(max_depth = 2, learning_rate = 0.5, n_estimators=50, silent=True)\n",
    "xgb2.fit(x_train, y_train)\n",
    "preds = xgb2.predict(x_test)\n",
    "evaluate(y_test, preds)"
   ]
  },
  {
   "cell_type": "markdown",
   "metadata": {},
   "source": [
    "If this is correct, that is an insane jump."
   ]
  },
  {
   "cell_type": "code",
   "execution_count": 50,
   "metadata": {
    "collapsed": false
   },
   "outputs": [
    {
     "name": "stdout",
     "output_type": "stream",
     "text": [
      "0.90127785059\n",
      "[1 1 1 ..., 1 1 1]\n"
     ]
    }
   ],
   "source": [
    "#Let's try with stumps\n",
    "xgb_stump = xgb.XGBClassifier(max_depth = 1, learning_rate= 0.5, n_estimators=50)\n",
    "xgb_stump.fit(x_train, y_train)\n",
    "preds = xgb_stump.predict(x_test)\n",
    "print evaluate(y_test, preds)\n",
    "print preds"
   ]
  },
  {
   "cell_type": "markdown",
   "metadata": {},
   "source": [
    "So this is really good. Like I don't believe it. Time to run Cross Validation."
   ]
  },
  {
   "cell_type": "code",
   "execution_count": 51,
   "metadata": {
    "collapsed": false
   },
   "outputs": [
    {
     "name": "stdout",
     "output_type": "stream",
     "text": [
      "Model  0 :  0.510678426914\n",
      "Model  1 :  0.516098481114\n",
      "run time:  0 : 10.6450340748 s\n"
     ]
    }
   ],
   "source": [
    "#CV\n",
    "import time\n",
    "def cross_val(xgbs):\n",
    "    start = time.time()\n",
    "    expected_err = [0]*len(xgbs);\n",
    "    expected_err_stump = 0;\n",
    "    for i in range(0, 10):\n",
    "        x_train, x_test, y_train, y_test = sk.model_selection.train_test_split(tr_x, y, test_size=test_size, random_state=seed)\n",
    "        for i in range(0, len(xgbs)):\n",
    "            xgbs[i].fit(x_train, y_train)    #stump\n",
    "            expected_err[i] += evaluate(xgbs[i].predict(x_test), y_test)\n",
    "    for i in range(0, len(xgbs)):\n",
    "        expected_err[i] = expected_err[i]/10\n",
    "        print 'Model ', i, \": \", expected_err[i]\n",
    "    run_time = time.time()-start\n",
    "    print 'run time: ', int(run_time)/60,':',run_time%60, 's'\n",
    "        \n",
    "cross_val([xgb2, xgb_stump])"
   ]
  },
  {
   "cell_type": "markdown",
   "metadata": {},
   "source": [
    "As we can see, the previous 2 models got lucky when they presented us with high scores. In fact, they both suck.  Funny how the difference is so massive."
   ]
  },
  {
   "cell_type": "markdown",
   "metadata": {},
   "source": [
    "We also have a runtime. I will try the same code using the gpu plugin, to see if we get faster results."
   ]
  },
  {
   "cell_type": "code",
   "execution_count": 52,
   "metadata": {
    "collapsed": false,
    "scrolled": true
   },
   "outputs": [
    {
     "name": "stdout",
     "output_type": "stream",
     "text": [
      "0.509404254107\n",
      "[ 1.  1.  1. ...,  1.  1.  1.]\n"
     ]
    }
   ],
   "source": [
    "params = {'max_depth':5, 'learning_rate':0.3, 'n_estimators':50, 'objective':'binary:logistic', 'updater':'grow_gpu'}\n",
    "#xg_train = np.hstack([tr_x, y])\n",
    "#label = xg_train.shape[1]-1\n",
    "xgb_matrix = xgb.DMatrix(data=tr_x, label=y)\n",
    "m1 = xgb.train(params=params, dtrain=xgb_matrix)\n",
    "xt= xgb.DMatrix(data=x_test)\n",
    "preds = m1.predict(xt, output_margin=False)\n",
    "for i in range(0, len(preds)):\n",
    "    if preds[i] > 0.5:\n",
    "        preds[i]=1\n",
    "    else:\n",
    "        preds[i]=0\n",
    "print evaluate(preds, y_test)\n",
    "print preds"
   ]
  },
  {
   "cell_type": "code",
   "execution_count": 53,
   "metadata": {
    "collapsed": true
   },
   "outputs": [],
   "source": [
    "def transform(preds):\n",
    "    for i in range(0, len(preds)):\n",
    "        if preds[i] > 0.5:\n",
    "            preds[i]=1\n",
    "        else:\n",
    "            preds[i]=0\n",
    "    return preds\n",
    "\n",
    "def cv(params, estimators):\n",
    "    start = time.time()\n",
    "    expected_err = [0]*len(params);\n",
    "    expected_err_stump = 0;\n",
    "    xgbs=[]\n",
    "    for i in range(0, 10):\n",
    "        print i*10, '% complete'\n",
    "        x_train, x_test, y_train, y_test = sk.model_selection.train_test_split(tr_x, y, test_size=test_size, random_state=seed)\n",
    "        x_train = xgb.DMatrix(data=x_train, label=y_train)\n",
    "        x_test = xgb.DMatrix(data=x_test)\n",
    "        for i in range(0, len(params)):\n",
    "            xgbs.append(xgb.train(params[i], dtrain=x_train, num_boost_round=estimators[i]))\n",
    "            expected_err[i] += evaluate(transform(xgbs[i].predict(x_test)), y_test)\n",
    "    for i in range(0, len(params)):\n",
    "        expected_err[i] = expected_err[i]/10\n",
    "        print 'Model ', i, \": \", expected_err[i]\n",
    "    run_time = time.time()-start\n",
    "    print 'run time: ', int(run_time)/60,'m',run_time%60, 's'"
   ]
  },
  {
   "cell_type": "code",
   "execution_count": 54,
   "metadata": {
    "collapsed": false
   },
   "outputs": [],
   "source": [
    "#params = {'max_depth':5, 'learning_rate':0.3, 'n_estimators':1000, 'objective':'binary:logistic', 'updater':'grow_gpu'}\n",
    "#param2 = {'max_depth':1, 'learning_rate':0.3, 'n_estimators':1000, 'objective':'binary:logistic', 'updater':'grow_gpu'}\n",
    "#models = [params, param2]\n",
    "#estimators = [1000, 1000]\n",
    "#cv(models, estimators)"
   ]
  },
  {
   "cell_type": "code",
   "execution_count": 55,
   "metadata": {
    "collapsed": false
   },
   "outputs": [],
   "source": [
    "#no gpu\n",
    "#params = {'max_depth':5, 'learning_rate':0.3, 'n_estimators':1000, 'objective':'binary:logistic'}\n",
    "#param2 = {'max_depth':1, 'learning_rate':0.3, 'n_estimators':1000, 'objective':'binary:logistic'}\n",
    "#models = [params, param2]\n",
    "#estimators = [1000, 1000]\n",
    "#cv(models, estimators)"
   ]
  },
  {
   "cell_type": "markdown",
   "metadata": {},
   "source": [
    "Apparently, GPU really slows down the models."
   ]
  },
  {
   "cell_type": "markdown",
   "metadata": {},
   "source": [
    "Stump is a little better, lets work with it.\n"
   ]
  },
  {
   "cell_type": "code",
   "execution_count": 56,
   "metadata": {
    "collapsed": false
   },
   "outputs": [
    {
     "name": "stdout",
     "output_type": "stream",
     "text": [
      "Model  0 :  0.5\n",
      "Model  1 :  0.516098481114\n",
      "run time:  0 : 12.8191699982 s\n"
     ]
    }
   ],
   "source": [
    "xgb_stump50 = xgb.XGBClassifier(max_depth = 1, learning_rate=0.1, n_estimators=100)\n",
    "xgb_stump100 = xgb.XGBClassifier(max_depth=1, learning_rate=0.5, n_estimators=50)\n",
    "cross_val([xgb_stump50, xgb_stump100])"
   ]
  },
  {
   "cell_type": "markdown",
   "metadata": {},
   "source": [
    "Samller learning rate and increased estimators both seem to do worse. "
   ]
  },
  {
   "cell_type": "code",
   "execution_count": 57,
   "metadata": {
    "collapsed": false
   },
   "outputs": [
    {
     "name": "stdout",
     "output_type": "stream",
     "text": [
      "Model  0 :  0.5\n",
      "Model  1 :  0.534483506517\n",
      "run time:  0 : 8.12539982796 s\n"
     ]
    }
   ],
   "source": [
    "xgb_s25 = xgb.XGBClassifier(max_depth=1, learning_rate=0.1, n_estimators=25)\n",
    "xgb_s75 = xgb.XGBClassifier(max_depth=1, learning_rate=0.75, n_estimators=50)\n",
    "cross_val([xgb_s25, xgb_s75])"
   ]
  },
  {
   "cell_type": "markdown",
   "metadata": {},
   "source": [
    "So increased learning rate leads to better results."
   ]
  },
  {
   "cell_type": "code",
   "execution_count": 58,
   "metadata": {
    "collapsed": false
   },
   "outputs": [
    {
     "name": "stdout",
     "output_type": "stream",
     "text": [
      "Model  0 :  0.565325455195\n",
      "Model  1 :  0.535515157092\n",
      "run time:  0 : 8.99209594727 s\n"
     ]
    }
   ],
   "source": [
    "xgb75 = xgb.XGBClassifier(max_depth = 3, learning_rate=0.75, n_estimators =50)\n",
    "xgb75_25 = xgb.XGBClassifier(max_depth = 1, learning_rate=0.75, n_estimators=25)\n",
    "cross_val([xgb75, xgb75_25])"
   ]
  },
  {
   "cell_type": "markdown",
   "metadata": {},
   "source": [
    "Increased max depth is really good. Let's try playing with the number of estimators."
   ]
  },
  {
   "cell_type": "code",
   "execution_count": 59,
   "metadata": {
    "collapsed": false
   },
   "outputs": [
    {
     "name": "stdout",
     "output_type": "stream",
     "text": [
      "Model  0 :  0.572970492033\n",
      "Model  1 :  0.575680519133\n",
      "run time:  0 : 16.2646460533 s\n"
     ]
    }
   ],
   "source": [
    "xgb100 = xgb.XGBClassifier(max_depth = 3, learning_rate=0.75, n_estimators =100)\n",
    "xgb5 = xgb.XGBClassifier(max_depth = 5, learning_rate=0.75, n_estimators =50)\n",
    "cross_val([xgb100, xgb5])"
   ]
  },
  {
   "cell_type": "markdown",
   "metadata": {},
   "source": [
    "What happens at learning rate 1?"
   ]
  },
  {
   "cell_type": "code",
   "execution_count": 60,
   "metadata": {
    "collapsed": false
   },
   "outputs": [
    {
     "name": "stdout",
     "output_type": "stream",
     "text": [
      "Model  0 :  0.578128744909\n",
      "Model  1 :  0.593599779167\n",
      "run time:  0 : 11.307612896 s\n"
     ]
    }
   ],
   "source": [
    "xgb1_3 = xgb.XGBClassifier(max_depth = 3, learning_rate=1, n_estimators =50)\n",
    "xgb1_5 = xgb.XGBClassifier(max_depth = 5, learning_rate=1, n_estimators =50)\n",
    "cross_val([xgb1_3, xgb1_5])"
   ]
  },
  {
   "cell_type": "markdown",
   "metadata": {},
   "source": [
    "Allowing a higher max depth just gave a huge increase in performance when coupled with a higher learning rate. "
   ]
  },
  {
   "cell_type": "code",
   "execution_count": 61,
   "metadata": {
    "collapsed": false
   },
   "outputs": [
    {
     "name": "stdout",
     "output_type": "stream",
     "text": [
      "Model  0 :  0.626343347508\n",
      "Model  1 :  0.595139477668\n",
      "run time:  0 : 17.580124855 s\n"
     ]
    }
   ],
   "source": [
    "xgb100 = xgb.XGBClassifier(max_depth = 5, learning_rate=1, n_estimators=100)\n",
    "xgb15 = xgb.XGBClassifier(max_depth=5, learning_rate=1.5, n_estimators=50)\n",
    "cross_val([xgb100, xgb15])"
   ]
  },
  {
   "cell_type": "code",
   "execution_count": 62,
   "metadata": {
    "collapsed": false,
    "scrolled": true
   },
   "outputs": [
    {
     "name": "stdout",
     "output_type": "stream",
     "text": [
      "Model  0 :  0.638700150947\n",
      "Model  1 :  0.635585920128\n",
      "run time:  0 : 38.0626480579 s\n"
     ]
    }
   ],
   "source": [
    "xgb10 = xgb.XGBClassifier(max_depth = 10, learning_rate=1, n_estimators=100)\n",
    "xgb200 = xgb.XGBClassifier(max_depth = 5, learning_rate=1, n_estimators=200)\n",
    "cross_val([xgb10, xgb200])"
   ]
  },
  {
   "cell_type": "markdown",
   "metadata": {},
   "source": [
    "Increasing estimators, and depth of estimators worked wonders!!!\n",
    "Eventually I will have to do more than guess at changes to the model..."
   ]
  },
  {
   "cell_type": "code",
   "execution_count": 64,
   "metadata": {
    "collapsed": false
   },
   "outputs": [
    {
     "ename": "KeyboardInterrupt",
     "evalue": "",
     "output_type": "error",
     "traceback": [
      "\u001b[0;31m---------------------------------------------------------------------------\u001b[0m",
      "\u001b[0;31mKeyboardInterrupt\u001b[0m                         Traceback (most recent call last)",
      "\u001b[0;32m<ipython-input-64-9e458cf20d0e>\u001b[0m in \u001b[0;36m<module>\u001b[0;34m()\u001b[0m\n\u001b[1;32m      1\u001b[0m \u001b[0mxgb10\u001b[0m \u001b[0;34m=\u001b[0m \u001b[0mxgb\u001b[0m\u001b[0;34m.\u001b[0m\u001b[0mXGBClassifier\u001b[0m\u001b[0;34m(\u001b[0m\u001b[0mmax_depth\u001b[0m \u001b[0;34m=\u001b[0m \u001b[0;36m10\u001b[0m\u001b[0;34m,\u001b[0m \u001b[0mlearning_rate\u001b[0m\u001b[0;34m=\u001b[0m\u001b[0;36m1\u001b[0m\u001b[0;34m,\u001b[0m \u001b[0mn_estimators\u001b[0m\u001b[0;34m=\u001b[0m\u001b[0;36m200\u001b[0m\u001b[0;34m)\u001b[0m\u001b[0;34m\u001b[0m\u001b[0m\n\u001b[1;32m      2\u001b[0m \u001b[0mxgb200\u001b[0m \u001b[0;34m=\u001b[0m \u001b[0mxgb\u001b[0m\u001b[0;34m.\u001b[0m\u001b[0mXGBClassifier\u001b[0m\u001b[0;34m(\u001b[0m\u001b[0mmax_depth\u001b[0m \u001b[0;34m=\u001b[0m \u001b[0;36m5\u001b[0m\u001b[0;34m,\u001b[0m \u001b[0mlearning_rate\u001b[0m\u001b[0;34m=\u001b[0m\u001b[0;36m1\u001b[0m\u001b[0;34m,\u001b[0m \u001b[0mn_estimators\u001b[0m\u001b[0;34m=\u001b[0m\u001b[0;36m1000\u001b[0m\u001b[0;34m)\u001b[0m\u001b[0;34m\u001b[0m\u001b[0m\n\u001b[0;32m----> 3\u001b[0;31m \u001b[0mcross_val\u001b[0m\u001b[0;34m(\u001b[0m\u001b[0;34m[\u001b[0m\u001b[0mxgb10\u001b[0m\u001b[0;34m,\u001b[0m \u001b[0mxgb200\u001b[0m\u001b[0;34m]\u001b[0m\u001b[0;34m)\u001b[0m\u001b[0;34m\u001b[0m\u001b[0m\n\u001b[0m",
      "\u001b[0;32m<ipython-input-51-f867f104bbd8>\u001b[0m in \u001b[0;36mcross_val\u001b[0;34m(xgbs)\u001b[0m\n\u001b[1;32m      8\u001b[0m         \u001b[0mx_train\u001b[0m\u001b[0;34m,\u001b[0m \u001b[0mx_test\u001b[0m\u001b[0;34m,\u001b[0m \u001b[0my_train\u001b[0m\u001b[0;34m,\u001b[0m \u001b[0my_test\u001b[0m \u001b[0;34m=\u001b[0m \u001b[0msk\u001b[0m\u001b[0;34m.\u001b[0m\u001b[0mmodel_selection\u001b[0m\u001b[0;34m.\u001b[0m\u001b[0mtrain_test_split\u001b[0m\u001b[0;34m(\u001b[0m\u001b[0mtr_x\u001b[0m\u001b[0;34m,\u001b[0m \u001b[0my\u001b[0m\u001b[0;34m,\u001b[0m \u001b[0mtest_size\u001b[0m\u001b[0;34m=\u001b[0m\u001b[0mtest_size\u001b[0m\u001b[0;34m,\u001b[0m \u001b[0mrandom_state\u001b[0m\u001b[0;34m=\u001b[0m\u001b[0mseed\u001b[0m\u001b[0;34m)\u001b[0m\u001b[0;34m\u001b[0m\u001b[0m\n\u001b[1;32m      9\u001b[0m         \u001b[0;32mfor\u001b[0m \u001b[0mi\u001b[0m \u001b[0;32min\u001b[0m \u001b[0mrange\u001b[0m\u001b[0;34m(\u001b[0m\u001b[0;36m0\u001b[0m\u001b[0;34m,\u001b[0m \u001b[0mlen\u001b[0m\u001b[0;34m(\u001b[0m\u001b[0mxgbs\u001b[0m\u001b[0;34m)\u001b[0m\u001b[0;34m)\u001b[0m\u001b[0;34m:\u001b[0m\u001b[0;34m\u001b[0m\u001b[0m\n\u001b[0;32m---> 10\u001b[0;31m             \u001b[0mxgbs\u001b[0m\u001b[0;34m[\u001b[0m\u001b[0mi\u001b[0m\u001b[0;34m]\u001b[0m\u001b[0;34m.\u001b[0m\u001b[0mfit\u001b[0m\u001b[0;34m(\u001b[0m\u001b[0mx_train\u001b[0m\u001b[0;34m,\u001b[0m \u001b[0my_train\u001b[0m\u001b[0;34m)\u001b[0m    \u001b[0;31m#stump\u001b[0m\u001b[0;34m\u001b[0m\u001b[0m\n\u001b[0m\u001b[1;32m     11\u001b[0m             \u001b[0mexpected_err\u001b[0m\u001b[0;34m[\u001b[0m\u001b[0mi\u001b[0m\u001b[0;34m]\u001b[0m \u001b[0;34m+=\u001b[0m \u001b[0mevaluate\u001b[0m\u001b[0;34m(\u001b[0m\u001b[0mxgbs\u001b[0m\u001b[0;34m[\u001b[0m\u001b[0mi\u001b[0m\u001b[0;34m]\u001b[0m\u001b[0;34m.\u001b[0m\u001b[0mpredict\u001b[0m\u001b[0;34m(\u001b[0m\u001b[0mx_test\u001b[0m\u001b[0;34m)\u001b[0m\u001b[0;34m,\u001b[0m \u001b[0my_test\u001b[0m\u001b[0;34m)\u001b[0m\u001b[0;34m\u001b[0m\u001b[0m\n\u001b[1;32m     12\u001b[0m     \u001b[0;32mfor\u001b[0m \u001b[0mi\u001b[0m \u001b[0;32min\u001b[0m \u001b[0mrange\u001b[0m\u001b[0;34m(\u001b[0m\u001b[0;36m0\u001b[0m\u001b[0;34m,\u001b[0m \u001b[0mlen\u001b[0m\u001b[0;34m(\u001b[0m\u001b[0mxgbs\u001b[0m\u001b[0;34m)\u001b[0m\u001b[0;34m)\u001b[0m\u001b[0;34m:\u001b[0m\u001b[0;34m\u001b[0m\u001b[0m\n",
      "\u001b[0;32m/home/justin/anaconda2/lib/python2.7/site-packages/xgboost-0.6-py2.7.egg/xgboost/sklearn.pyc\u001b[0m in \u001b[0;36mfit\u001b[0;34m(self, X, y, sample_weight, eval_set, eval_metric, early_stopping_rounds, verbose)\u001b[0m\n\u001b[1;32m    462\u001b[0m                               \u001b[0mearly_stopping_rounds\u001b[0m\u001b[0;34m=\u001b[0m\u001b[0mearly_stopping_rounds\u001b[0m\u001b[0;34m,\u001b[0m\u001b[0;34m\u001b[0m\u001b[0m\n\u001b[1;32m    463\u001b[0m                               \u001b[0mevals_result\u001b[0m\u001b[0;34m=\u001b[0m\u001b[0mevals_result\u001b[0m\u001b[0;34m,\u001b[0m \u001b[0mobj\u001b[0m\u001b[0;34m=\u001b[0m\u001b[0mobj\u001b[0m\u001b[0;34m,\u001b[0m \u001b[0mfeval\u001b[0m\u001b[0;34m=\u001b[0m\u001b[0mfeval\u001b[0m\u001b[0;34m,\u001b[0m\u001b[0;34m\u001b[0m\u001b[0m\n\u001b[0;32m--> 464\u001b[0;31m                               verbose_eval=verbose)\n\u001b[0m\u001b[1;32m    465\u001b[0m \u001b[0;34m\u001b[0m\u001b[0m\n\u001b[1;32m    466\u001b[0m         \u001b[0mself\u001b[0m\u001b[0;34m.\u001b[0m\u001b[0mobjective\u001b[0m \u001b[0;34m=\u001b[0m \u001b[0mxgb_options\u001b[0m\u001b[0;34m[\u001b[0m\u001b[0;34m\"objective\"\u001b[0m\u001b[0;34m]\u001b[0m\u001b[0;34m\u001b[0m\u001b[0m\n",
      "\u001b[0;32m/home/justin/anaconda2/lib/python2.7/site-packages/xgboost-0.6-py2.7.egg/xgboost/training.pyc\u001b[0m in \u001b[0;36mtrain\u001b[0;34m(params, dtrain, num_boost_round, evals, obj, feval, maximize, early_stopping_rounds, evals_result, verbose_eval, xgb_model, callbacks, learning_rates)\u001b[0m\n\u001b[1;32m    202\u001b[0m                            \u001b[0mevals\u001b[0m\u001b[0;34m=\u001b[0m\u001b[0mevals\u001b[0m\u001b[0;34m,\u001b[0m\u001b[0;34m\u001b[0m\u001b[0m\n\u001b[1;32m    203\u001b[0m                            \u001b[0mobj\u001b[0m\u001b[0;34m=\u001b[0m\u001b[0mobj\u001b[0m\u001b[0;34m,\u001b[0m \u001b[0mfeval\u001b[0m\u001b[0;34m=\u001b[0m\u001b[0mfeval\u001b[0m\u001b[0;34m,\u001b[0m\u001b[0;34m\u001b[0m\u001b[0m\n\u001b[0;32m--> 204\u001b[0;31m                            xgb_model=xgb_model, callbacks=callbacks)\n\u001b[0m\u001b[1;32m    205\u001b[0m \u001b[0;34m\u001b[0m\u001b[0m\n\u001b[1;32m    206\u001b[0m \u001b[0;34m\u001b[0m\u001b[0m\n",
      "\u001b[0;32m/home/justin/anaconda2/lib/python2.7/site-packages/xgboost-0.6-py2.7.egg/xgboost/training.pyc\u001b[0m in \u001b[0;36m_train_internal\u001b[0;34m(params, dtrain, num_boost_round, evals, obj, feval, xgb_model, callbacks)\u001b[0m\n\u001b[1;32m     72\u001b[0m         \u001b[0;31m# Skip the first update if it is a recovery step.\u001b[0m\u001b[0;34m\u001b[0m\u001b[0;34m\u001b[0m\u001b[0m\n\u001b[1;32m     73\u001b[0m         \u001b[0;32mif\u001b[0m \u001b[0mversion\u001b[0m \u001b[0;34m%\u001b[0m \u001b[0;36m2\u001b[0m \u001b[0;34m==\u001b[0m \u001b[0;36m0\u001b[0m\u001b[0;34m:\u001b[0m\u001b[0;34m\u001b[0m\u001b[0m\n\u001b[0;32m---> 74\u001b[0;31m             \u001b[0mbst\u001b[0m\u001b[0;34m.\u001b[0m\u001b[0mupdate\u001b[0m\u001b[0;34m(\u001b[0m\u001b[0mdtrain\u001b[0m\u001b[0;34m,\u001b[0m \u001b[0mi\u001b[0m\u001b[0;34m,\u001b[0m \u001b[0mobj\u001b[0m\u001b[0;34m)\u001b[0m\u001b[0;34m\u001b[0m\u001b[0m\n\u001b[0m\u001b[1;32m     75\u001b[0m             \u001b[0mbst\u001b[0m\u001b[0;34m.\u001b[0m\u001b[0msave_rabit_checkpoint\u001b[0m\u001b[0;34m(\u001b[0m\u001b[0;34m)\u001b[0m\u001b[0;34m\u001b[0m\u001b[0m\n\u001b[1;32m     76\u001b[0m             \u001b[0mversion\u001b[0m \u001b[0;34m+=\u001b[0m \u001b[0;36m1\u001b[0m\u001b[0;34m\u001b[0m\u001b[0m\n",
      "\u001b[0;32m/home/justin/anaconda2/lib/python2.7/site-packages/xgboost-0.6-py2.7.egg/xgboost/core.pyc\u001b[0m in \u001b[0;36mupdate\u001b[0;34m(self, dtrain, iteration, fobj)\u001b[0m\n\u001b[1;32m    814\u001b[0m         \u001b[0;32mif\u001b[0m \u001b[0;32mnot\u001b[0m \u001b[0misinstance\u001b[0m\u001b[0;34m(\u001b[0m\u001b[0mdtrain\u001b[0m\u001b[0;34m,\u001b[0m \u001b[0mDMatrix\u001b[0m\u001b[0;34m)\u001b[0m\u001b[0;34m:\u001b[0m\u001b[0;34m\u001b[0m\u001b[0m\n\u001b[1;32m    815\u001b[0m             \u001b[0;32mraise\u001b[0m \u001b[0mTypeError\u001b[0m\u001b[0;34m(\u001b[0m\u001b[0;34m'invalid training matrix: {}'\u001b[0m\u001b[0;34m.\u001b[0m\u001b[0mformat\u001b[0m\u001b[0;34m(\u001b[0m\u001b[0mtype\u001b[0m\u001b[0;34m(\u001b[0m\u001b[0mdtrain\u001b[0m\u001b[0;34m)\u001b[0m\u001b[0;34m.\u001b[0m\u001b[0m__name__\u001b[0m\u001b[0;34m)\u001b[0m\u001b[0;34m)\u001b[0m\u001b[0;34m\u001b[0m\u001b[0m\n\u001b[0;32m--> 816\u001b[0;31m         \u001b[0mself\u001b[0m\u001b[0;34m.\u001b[0m\u001b[0m_validate_features\u001b[0m\u001b[0;34m(\u001b[0m\u001b[0mdtrain\u001b[0m\u001b[0;34m)\u001b[0m\u001b[0;34m\u001b[0m\u001b[0m\n\u001b[0m\u001b[1;32m    817\u001b[0m \u001b[0;34m\u001b[0m\u001b[0m\n\u001b[1;32m    818\u001b[0m         \u001b[0;32mif\u001b[0m \u001b[0mfobj\u001b[0m \u001b[0;32mis\u001b[0m \u001b[0mNone\u001b[0m\u001b[0;34m:\u001b[0m\u001b[0;34m\u001b[0m\u001b[0m\n",
      "\u001b[0;32m/home/justin/anaconda2/lib/python2.7/site-packages/xgboost-0.6-py2.7.egg/xgboost/core.pyc\u001b[0m in \u001b[0;36m_validate_features\u001b[0;34m(self, data)\u001b[0m\n\u001b[1;32m   1176\u001b[0m         \u001b[0;32melse\u001b[0m\u001b[0;34m:\u001b[0m\u001b[0;34m\u001b[0m\u001b[0m\n\u001b[1;32m   1177\u001b[0m             \u001b[0;31m# Booster can't accept data with different feature names\u001b[0m\u001b[0;34m\u001b[0m\u001b[0;34m\u001b[0m\u001b[0m\n\u001b[0;32m-> 1178\u001b[0;31m             \u001b[0;32mif\u001b[0m \u001b[0mself\u001b[0m\u001b[0;34m.\u001b[0m\u001b[0mfeature_names\u001b[0m \u001b[0;34m!=\u001b[0m \u001b[0mdata\u001b[0m\u001b[0;34m.\u001b[0m\u001b[0mfeature_names\u001b[0m\u001b[0;34m:\u001b[0m\u001b[0;34m\u001b[0m\u001b[0m\n\u001b[0m\u001b[1;32m   1179\u001b[0m                 \u001b[0mdat_missing\u001b[0m \u001b[0;34m=\u001b[0m \u001b[0mset\u001b[0m\u001b[0;34m(\u001b[0m\u001b[0mself\u001b[0m\u001b[0;34m.\u001b[0m\u001b[0mfeature_names\u001b[0m\u001b[0;34m)\u001b[0m \u001b[0;34m-\u001b[0m \u001b[0mset\u001b[0m\u001b[0;34m(\u001b[0m\u001b[0mdata\u001b[0m\u001b[0;34m.\u001b[0m\u001b[0mfeature_names\u001b[0m\u001b[0;34m)\u001b[0m\u001b[0;34m\u001b[0m\u001b[0m\n\u001b[1;32m   1180\u001b[0m                 \u001b[0mmy_missing\u001b[0m \u001b[0;34m=\u001b[0m \u001b[0mset\u001b[0m\u001b[0;34m(\u001b[0m\u001b[0mdata\u001b[0m\u001b[0;34m.\u001b[0m\u001b[0mfeature_names\u001b[0m\u001b[0;34m)\u001b[0m \u001b[0;34m-\u001b[0m \u001b[0mset\u001b[0m\u001b[0;34m(\u001b[0m\u001b[0mself\u001b[0m\u001b[0;34m.\u001b[0m\u001b[0mfeature_names\u001b[0m\u001b[0;34m)\u001b[0m\u001b[0;34m\u001b[0m\u001b[0m\n",
      "\u001b[0;31mKeyboardInterrupt\u001b[0m: "
     ]
    }
   ],
   "source": [
    "xgb10 = xgb.XGBClassifier(max_depth = 10, learning_rate=1, n_estimators=200)\n",
    "xgb200 = xgb.XGBClassifier(max_depth = 5, learning_rate=1, n_estimators=1000)\n",
    "cross_val([xgb10, xgb200])"
   ]
  },
  {
   "cell_type": "markdown",
   "metadata": {},
   "source": [
    "Its incredible to me that these keep improving. But those last 2 models took at least 5 minutes to cross validate. Might as well go for gold though."
   ]
  },
  {
   "cell_type": "code",
   "execution_count": null,
   "metadata": {
    "collapsed": false
   },
   "outputs": [],
   "source": [
    "xgb10_1000 = xgb.XGBClassifier(max_depth=10, learning_rate=1,n_estimators=1000)\n",
    "cross_val([xgb10_1000])"
   ]
  },
  {
   "cell_type": "markdown",
   "metadata": {},
   "source": [
    "It felt like this took 10 minutes to run, which is terribly disapointing for a 1% increase in accuracy. I have gone back and patched in a runtime counter."
   ]
  },
  {
   "cell_type": "code",
   "execution_count": null,
   "metadata": {
    "collapsed": false,
    "scrolled": true
   },
   "outputs": [],
   "source": [
    "xgb15 = xgb.XGBClassifier(max_depth=15, learning_rate=1, n_estimators=100)\n",
    "cross_val([xgb15])"
   ]
  },
  {
   "cell_type": "markdown",
   "metadata": {},
   "source": [
    "So accuracy seems to increase with max depth and n_estimators, though runtime gets really bad if we increase these with reckless abandon. I will try one more run with max_depth=15 and n_estimators = 1000, but I expect minimal (if any) increase over 10/1000."
   ]
  },
  {
   "cell_type": "code",
   "execution_count": 65,
   "metadata": {
    "collapsed": false
   },
   "outputs": [
    {
     "name": "stdout",
     "output_type": "stream",
     "text": [
      "Model  0 :  0.69971804326\n",
      "run time:  2 : 56.9792690277 s\n"
     ]
    }
   ],
   "source": [
    "xgb15_1000 = xgb.XGBClassifier(max_depth=15, learning_rate=1, n_estimators=1000)\n",
    "cross_val([xgb15_1000])"
   ]
  },
  {
   "cell_type": "code",
   "execution_count": null,
   "metadata": {
    "collapsed": false
   },
   "outputs": [],
   "source": [
    "#xgb15_100_gpu = {'max_depth':15, 'learning_rate':1,'objective':'binary:logistic', 'updater':'grow_gpu'}\n",
    "#cv([xgb15_100_gpu], [1000])"
   ]
  },
  {
   "cell_type": "markdown",
   "metadata": {},
   "source": [
    "69%!!!! This jumped 1.5%, which was much more than I expected. Why stop bruteforcing? (Besides the runtime...)"
   ]
  },
  {
   "cell_type": "code",
   "execution_count": null,
   "metadata": {
    "collapsed": false
   },
   "outputs": [],
   "source": [
    "xgb15_1000.fit(tr_x, y)\n",
    "final_preds = xgb15_1000.predict(test_x_fin)"
   ]
  },
  {
   "cell_type": "code",
   "execution_count": null,
   "metadata": {
    "collapsed": false
   },
   "outputs": [],
   "source": [
    "print final_preds.shape\n",
    "print id.shape\n",
    "print test_x_fin.shape\n",
    "get_submission(final_preds, 'boosted_preds')"
   ]
  },
  {
   "cell_type": "code",
   "execution_count": 57,
   "metadata": {
    "collapsed": false
   },
   "outputs": [
    {
     "name": "stdout",
     "output_type": "stream",
     "text": [
      "0 % complete\n",
      "10 % complete\n",
      "20 % complete\n",
      "30 % complete\n",
      "40 % complete\n",
      "50 % complete\n",
      "60 % complete\n",
      "70 % complete\n",
      "80 % complete\n",
      "90 % complete\n",
      "Model  0 :  0.64467053563\n",
      "Model  1 :  0.662043189551\n",
      "Model  2 :  0.667301562264\n",
      "Model  3 :  0.665461504251\n",
      "run time:  0 m 38.6918599606 s\n"
     ]
    }
   ],
   "source": [
    "lgr = {'booster':'gblinear'}\n",
    "estimators = [10, 50, 100, 500]\n",
    "cv([lgr, lgr, lgr, lgr], estimators)"
   ]
  },
  {
   "cell_type": "markdown",
   "metadata": {},
   "source": [
    "Linear regressison models seem to be more accurate by default. Stacking estimators does not seem to help very much."
   ]
  },
  {
   "cell_type": "code",
   "execution_count": 59,
   "metadata": {
    "collapsed": false
   },
   "outputs": [
    {
     "name": "stdout",
     "output_type": "stream",
     "text": [
      "0 % complete\n",
      "10 % complete\n",
      "20 % complete\n",
      "30 % complete\n",
      "40 % complete\n",
      "50 % complete\n",
      "60 % complete\n",
      "70 % complete\n",
      "80 % complete\n",
      "90 % complete\n",
      "Model  0 :  0.635913007473\n",
      "Model  1 :  0.64467053563\n",
      "Model  2 :  0.651283921893\n",
      "Model  3 :  0.6552681218\n",
      "Model  4 :  0.657897308157\n",
      "Model  5 :  0.662043189551\n",
      "run time:  0 m 9.53281593323 s\n"
     ]
    }
   ],
   "source": [
    "lgr = {'booster':'gblinear'}\n",
    "estimators = [5, 10, 15, 20, 25, 50]\n",
    "cv([lgr, lgr, lgr, lgr, lgr, lgr], estimators)"
   ]
  },
  {
   "cell_type": "markdown",
   "metadata": {},
   "source": [
    "We will stick with 50, as it seems to be the best tradeoff between speed and score."
   ]
  },
  {
   "cell_type": "markdown",
   "metadata": {},
   "source": [
    "Now lets add some weights to the model."
   ]
  },
  {
   "cell_type": "code",
   "execution_count": 61,
   "metadata": {
    "collapsed": false
   },
   "outputs": [
    {
     "name": "stdout",
     "output_type": "stream",
     "text": [
      "0 % complete\n",
      "10 % complete\n",
      "20 % complete\n",
      "30 % complete\n",
      "40 % complete\n",
      "50 % complete\n",
      "60 % complete\n",
      "70 % complete\n",
      "80 % complete\n",
      "90 % complete\n",
      "Model  0 :  0.652254010818\n",
      "run time:  0 m 4.95634007454 s\n"
     ]
    }
   ],
   "source": [
    "lgr ={}\n",
    "lgr['booster'] = 'gblinear'\n",
    "lgr['lambda'] = 0.1\n",
    "cv([lgr], [50])"
   ]
  },
  {
   "cell_type": "code",
   "execution_count": 87,
   "metadata": {
    "collapsed": false
   },
   "outputs": [],
   "source": [
    "cv_data = xgb.DMatrix(data=tr_x, label=y)\n",
    "res = []\n",
    "lambdas = []\n",
    "for i in range(0, 10):\n",
    "    lgr['lambda'] = float(i)/10\n",
    "    lambdas.append(float(i)/10)\n",
    "    res.append(xgb.cv(lgr, dtrain = cv_data, num_boost_round = 50, metrics={'error'}))"
   ]
  },
  {
   "cell_type": "code",
   "execution_count": 88,
   "metadata": {
    "collapsed": false
   },
   "outputs": [
    {
     "data": {
      "text/plain": [
       "pandas.core.frame.DataFrame"
      ]
     },
     "execution_count": 88,
     "metadata": {},
     "output_type": "execute_result"
    }
   ],
   "source": [
    "type(res[0])"
   ]
  },
  {
   "cell_type": "code",
   "execution_count": 89,
   "metadata": {
    "collapsed": false,
    "scrolled": true
   },
   "outputs": [
    {
     "data": {
      "text/html": [
       "<div>\n",
       "<table border=\"1\" class=\"dataframe\">\n",
       "  <thead>\n",
       "    <tr style=\"text-align: right;\">\n",
       "      <th></th>\n",
       "      <th>test-error-mean</th>\n",
       "      <th>test-error-std</th>\n",
       "      <th>train-error-mean</th>\n",
       "      <th>train-error-std</th>\n",
       "    </tr>\n",
       "  </thead>\n",
       "  <tbody>\n",
       "    <tr>\n",
       "      <th>0</th>\n",
       "      <td>0.063414</td>\n",
       "      <td>0.001144</td>\n",
       "      <td>0.022857</td>\n",
       "      <td>0.000265</td>\n",
       "    </tr>\n",
       "    <tr>\n",
       "      <th>1</th>\n",
       "      <td>0.061186</td>\n",
       "      <td>0.000799</td>\n",
       "      <td>0.019805</td>\n",
       "      <td>0.000413</td>\n",
       "    </tr>\n",
       "    <tr>\n",
       "      <th>2</th>\n",
       "      <td>0.062223</td>\n",
       "      <td>0.000653</td>\n",
       "      <td>0.018600</td>\n",
       "      <td>0.000078</td>\n",
       "    </tr>\n",
       "    <tr>\n",
       "      <th>3</th>\n",
       "      <td>0.062407</td>\n",
       "      <td>0.000604</td>\n",
       "      <td>0.017776</td>\n",
       "      <td>0.000238</td>\n",
       "    </tr>\n",
       "    <tr>\n",
       "      <th>4</th>\n",
       "      <td>0.062834</td>\n",
       "      <td>0.001142</td>\n",
       "      <td>0.017532</td>\n",
       "      <td>0.000336</td>\n",
       "    </tr>\n",
       "  </tbody>\n",
       "</table>\n",
       "</div>"
      ],
      "text/plain": [
       "   test-error-mean  test-error-std  train-error-mean  train-error-std\n",
       "0         0.063414        0.001144          0.022857         0.000265\n",
       "1         0.061186        0.000799          0.019805         0.000413\n",
       "2         0.062223        0.000653          0.018600         0.000078\n",
       "3         0.062407        0.000604          0.017776         0.000238\n",
       "4         0.062834        0.001142          0.017532         0.000336"
      ]
     },
     "execution_count": 89,
     "metadata": {},
     "output_type": "execute_result"
    }
   ],
   "source": [
    "res[0].head()"
   ]
  },
  {
   "cell_type": "code",
   "execution_count": 90,
   "metadata": {
    "collapsed": false
   },
   "outputs": [],
   "source": [
    "testerr = []\n",
    "trainerr = []\n",
    "for df in res:\n",
    "    testerr.append(df['test-error-mean'].mean(axis=0))\n",
    "    trainerr.append(df['train-error-mean'].mean(axis=0))"
   ]
  },
  {
   "cell_type": "code",
   "execution_count": 91,
   "metadata": {
    "collapsed": false
   },
   "outputs": [
    {
     "name": "stdout",
     "output_type": "stream",
     "text": [
      "[0.0631054, 0.06116763333333334, 0.059891933333333335, 0.05889103333333333, 0.05802443333333333, 0.057298133333333334, 0.056672466666666664, 0.05602240000000001, 0.05561346666666667, 0.055299266666666666]\n"
     ]
    }
   ],
   "source": [
    "print lambdaerr"
   ]
  },
  {
   "cell_type": "code",
   "execution_count": 92,
   "metadata": {
    "collapsed": false
   },
   "outputs": [
    {
     "data": {
      "image/png": "[encoded data removed]",
      "text/plain": [
       "<matplotlib.figure.Figure at 0x7fa1ca1d2610>"
      ]
     },
     "metadata": {},
     "output_type": "display_data"
    }
   ],
   "source": [
    "plt.scatter(lambdas, testerr, c='b')\n",
    "plt.scatter(lambdas, trainerr, c='r')\n",
    "plt.show()"
   ]
  },
  {
   "cell_type": "markdown",
   "metadata": {},
   "source": [
    "It seems lambda will be 0.9"
   ]
  },
  {
   "cell_type": "code",
   "execution_count": 95,
   "metadata": {
    "collapsed": false
   },
   "outputs": [
    {
     "data": {
      "image/png": "[encoded data removed]",
      "text/plain": [
       "<matplotlib.figure.Figure at 0x7fa1c8011c90>"
      ]
     },
     "metadata": {},
     "output_type": "display_data"
    }
   ],
   "source": [
    "lgr['lambda'] = 0.9\n",
    "lgr['alpha'] = 0\n",
    "cv_data = xgb.DMatrix(data=tr_x, label=y)\n",
    "res = []\n",
    "alphas = []\n",
    "for i in range(0, 10):\n",
    "    lgr['alpha'] = float(i)/10\n",
    "    alphas.append(float(i)/10)\n",
    "    res.append(xgb.cv(lgr, dtrain = cv_data, num_boost_round = 50, metrics={'error'}))\n",
    "\n",
    "testerr = []\n",
    "trainerr = []\n",
    "for df in res:\n",
    "    testerr.append(df['test-error-mean'].mean(axis=0))\n",
    "    trainerr.append(df['train-error-mean'].mean(axis=0))\n",
    "    \n",
    "plt.scatter(alphas, testerr, c='b')\n",
    "plt.scatter(alphas, trainerr, c='r')\n",
    "plt.show()"
   ]
  },
  {
   "cell_type": "markdown",
   "metadata": {},
   "source": [
    "Test error remains constant, but it seems that training error increases with increase in alpha. I'll keep it at 0.3 for now."
   ]
  },
  {
   "cell_type": "code",
   "execution_count": 97,
   "metadata": {
    "collapsed": false
   },
   "outputs": [
    {
     "data": {
      "image/png": "[encoded data removed]",
      "text/plain": [
       "<matplotlib.figure.Figure at 0x7fa1ca1e1390>"
      ]
     },
     "metadata": {},
     "output_type": "display_data"
    }
   ],
   "source": [
    "lgr['lambda'] = 0.9\n",
    "lgr['alpha'] = 0.3\n",
    "lgr['lambda_bias'] = 0\n",
    "cv_data = xgb.DMatrix(data=tr_x, label=y)\n",
    "res = []\n",
    "lb = []\n",
    "for i in range(0, 10):\n",
    "    lgr['lambda_bias'] = float(i)/10\n",
    "    lb.append(float(i)/10)\n",
    "    res.append(xgb.cv(lgr, dtrain = cv_data, num_boost_round = 50, metrics={'error'}))\n",
    "\n",
    "testerr = []\n",
    "trainerr = []\n",
    "for df in res:\n",
    "    testerr.append(df['test-error-mean'].mean(axis=0))\n",
    "    trainerr.append(df['train-error-mean'].mean(axis=0))\n",
    "    \n",
    "plt.scatter(lb, testerr, c='b')\n",
    "plt.scatter(lb, trainerr, c='r')\n",
    "plt.show()"
   ]
  },
  {
   "cell_type": "markdown",
   "metadata": {},
   "source": [
    "This will just stay at 0."
   ]
  },
  {
   "cell_type": "code",
   "execution_count": 120,
   "metadata": {
    "collapsed": false
   },
   "outputs": [],
   "source": [
    "class my_model():\n",
    "\n",
    "    def __init__(self, gbl_params, gbt_params, ngbl, ngbt):\n",
    "        self.lin = gbl_params\n",
    "        self.tree = gbt_params\n",
    "    \n",
    "    def fit(self, x, y):\n",
    "        data = xgb.DMatrix(data=x, label = y)\n",
    "        self.m1 = xgb.train(self.lin, dtrain = data, num_boost_round = 50)\n",
    "        preds = transform(self.m1.predict(xgb.DMatrix(data=x)))\n",
    "        err = []\n",
    "        for i in range(0, len(y)):\n",
    "            if y[i] != preds[i]:\n",
    "                err.append(1)\n",
    "            else:\n",
    "                err.append(0)\n",
    "        data = xgb.DMatrix(data=x, label=err)\n",
    "        self.m2 = xgb.train(self.tree, dtrain = data, num_boost_round=200)\n",
    "        \n",
    "    def predict(self, x):\n",
    "        data = xgb.DMatrix(data=x)\n",
    "        preds = transform(self.m1.predict(data))\n",
    "        err = transform(self.m2.predict(data))\n",
    "        preds = np.absolute(preds-err)\n",
    "        return preds\n",
    "        \n",
    "        "
   ]
  },
  {
   "cell_type": "code",
   "execution_count": 100,
   "metadata": {
    "collapsed": false
   },
   "outputs": [
    {
     "data": {
      "text/plain": [
       "{'alpha': 0.3,\n",
       " 'aplha': 5.0,\n",
       " 'booster': 'gblinear',\n",
       " 'lambda': 0.9,\n",
       " 'lambda_bias': 0.9}"
      ]
     },
     "execution_count": 100,
     "metadata": {},
     "output_type": "execute_result"
    }
   ],
   "source": [
    "lgr"
   ]
  },
  {
   "cell_type": "code",
   "execution_count": 102,
   "metadata": {
    "collapsed": false
   },
   "outputs": [
    {
     "name": "stdout",
     "output_type": "stream",
     "text": [
      "0 % complete\n",
      "10 % complete\n",
      "20 % complete\n",
      "30 % complete\n",
      "40 % complete\n",
      "50 % complete\n",
      "60 % complete\n",
      "70 % complete\n",
      "80 % complete\n",
      "90 % complete\n",
      "Model  0 :  0.591536478016\n",
      "run time:  0 m 4.5983080864 s\n"
     ]
    }
   ],
   "source": [
    "lgr['lambda_bias']=0\n",
    "cv([lgr], [50])"
   ]
  },
  {
   "cell_type": "code",
   "execution_count": 103,
   "metadata": {
    "collapsed": false
   },
   "outputs": [
    {
     "name": "stdout",
     "output_type": "stream",
     "text": [
      "0 % complete\n",
      "10 % complete\n",
      "20 % complete\n",
      "30 % complete\n",
      "40 % complete\n",
      "50 % complete\n",
      "60 % complete\n",
      "70 % complete\n",
      "80 % complete\n",
      "90 % complete\n",
      "Model  0 :  0.609821383582\n",
      "run time:  0 m 4.8096280098 s\n",
      "0 % complete\n",
      "10 % complete\n",
      "20 % complete\n",
      "30 % complete\n",
      "40 % complete\n",
      "50 % complete\n",
      "60 % complete\n",
      "70 % complete\n",
      "80 % complete\n",
      "90 % complete\n",
      "Model  0 :  0.609113095981\n",
      "run time:  0 m 4.90501499176 s\n",
      "0 % complete\n",
      "10 % complete\n",
      "20 % complete\n",
      "30 % complete\n",
      "40 % complete\n",
      "50 % complete\n",
      "60 % complete\n",
      "70 % complete\n",
      "80 % complete\n",
      "90 % complete\n",
      "Model  0 :  0.608000604662\n",
      "run time:  0 m 4.91266393661 s\n",
      "0 % complete\n",
      "10 % complete\n",
      "20 % complete\n",
      "30 % complete\n",
      "40 % complete\n",
      "50 % complete\n",
      "60 % complete\n",
      "70 % complete\n",
      "80 % complete\n",
      "90 % complete\n",
      "Model  0 :  0.605856462768\n",
      "run time:  0 m 4.76365709305 s\n",
      "0 % complete\n",
      "10 % complete\n",
      "20 % complete\n",
      "30 % complete\n",
      "40 % complete\n",
      "50 % complete\n",
      "60 % complete\n",
      "70 % complete\n",
      "80 % complete\n",
      "90 % complete\n",
      "Model  0 :  0.600840612286\n",
      "run time:  0 m 5.0142250061 s\n",
      "0 % complete\n",
      "10 % complete\n",
      "20 % complete\n",
      "30 % complete\n",
      "40 % complete\n",
      "50 % complete\n",
      "60 % complete\n",
      "70 % complete\n",
      "80 % complete\n",
      "90 % complete\n",
      "Model  0 :  0.59885815188\n",
      "run time:  0 m 5.03225302696 s\n",
      "0 % complete\n",
      "10 % complete\n",
      "20 % complete\n",
      "30 % complete\n",
      "40 % complete\n",
      "50 % complete\n",
      "60 % complete\n",
      "70 % complete\n",
      "80 % complete\n",
      "90 % complete\n",
      "Model  0 :  0.596633169242\n",
      "run time:  0 m 4.82712888718 s\n",
      "0 % complete\n",
      "10 % complete\n",
      "20 % complete\n",
      "30 % complete\n",
      "40 % complete\n",
      "50 % complete\n",
      "60 % complete\n",
      "70 % complete\n",
      "80 % complete\n",
      "90 % complete\n",
      "Model  0 :  0.596875691473\n",
      "run time:  0 m 4.98250412941 s\n",
      "0 % complete\n",
      "10 % complete\n",
      "20 % complete\n",
      "30 % complete\n",
      "40 % complete\n",
      "50 % complete\n",
      "60 % complete\n",
      "70 % complete\n",
      "80 % complete\n",
      "90 % complete\n",
      "Model  0 :  0.594246505117\n",
      "run time:  0 m 5.42937421799 s\n",
      "0 % complete\n",
      "10 % complete\n",
      "20 % complete\n",
      "30 % complete\n",
      "40 % complete\n",
      "50 % complete\n",
      "60 % complete\n",
      "70 % complete\n",
      "80 % complete\n",
      "90 % complete\n",
      "Model  0 :  0.591536478016\n",
      "run time:  0 m 5.63348698616 s\n"
     ]
    }
   ],
   "source": [
    "for i in range(0, 10):\n",
    "    lgr['lambda'] = float(i)/10\n",
    "    cv([lgr], [50])"
   ]
  },
  {
   "cell_type": "code",
   "execution_count": 105,
   "metadata": {
    "collapsed": false
   },
   "outputs": [
    {
     "name": "stdout",
     "output_type": "stream",
     "text": [
      "0 % complete\n",
      "10 % complete\n",
      "20 % complete\n",
      "30 % complete\n",
      "40 % complete\n",
      "50 % complete\n",
      "60 % complete\n",
      "70 % complete\n",
      "80 % complete\n",
      "90 % complete\n",
      "Model  0 :  0.660607335257\n",
      "run time:  0 m 4.91333413124 s\n"
     ]
    }
   ],
   "source": [
    "gbl = {'booster':'gblinear'}\n",
    "cv([gbt], [50])"
   ]
  },
  {
   "cell_type": "code",
   "execution_count": 123,
   "metadata": {
    "collapsed": false
   },
   "outputs": [
    {
     "name": "stdout",
     "output_type": "stream",
     "text": [
      "0 % complete\n",
      "10 % complete\n",
      "20 % complete\n",
      "30 % complete\n",
      "40 % complete\n",
      "50 % complete\n",
      "60 % complete\n",
      "70 % complete\n",
      "80 % complete\n",
      "90 % complete\n",
      "Model  0 :  0.632490968402\n",
      "Model  1 :  0.661881508063\n",
      "run time:  0 m 42.7306771278 s\n"
     ]
    }
   ],
   "source": [
    "gbt = {'max_depth':15, 'learing_rate':1, 'objective':'binary:logistic'}\n",
    "cv([gbt, gbl], [200, 50])"
   ]
  },
  {
   "cell_type": "code",
   "execution_count": 121,
   "metadata": {
    "collapsed": true
   },
   "outputs": [],
   "source": [
    "lintree = my_model(gbl, gbt, 50, 200)"
   ]
  },
  {
   "cell_type": "code",
   "execution_count": 127,
   "metadata": {
    "collapsed": false
   },
   "outputs": [
    {
     "name": "stdout",
     "output_type": "stream",
     "text": [
      "Model  0 :  0.664395961906\n",
      "run time:  0 : 45.5462138653 s\n"
     ]
    }
   ],
   "source": [
    "cross_val([lintree])"
   ]
  },
  {
   "cell_type": "markdown",
   "metadata": {},
   "source": [
    "Lol, it got worse..."
   ]
  },
  {
   "cell_type": "code",
   "execution_count": 128,
   "metadata": {
    "collapsed": false
   },
   "outputs": [
    {
     "name": "stdout",
     "output_type": "stream",
     "text": [
      "0 % complete\n",
      "10 % complete\n",
      "20 % complete\n",
      "30 % complete\n",
      "40 % complete\n",
      "50 % complete\n",
      "60 % complete\n",
      "70 % complete\n",
      "80 % complete\n",
      "90 % complete\n",
      "Model  0 :  0.507968399813\n",
      "run time:  0 m 19.4526128769 s\n",
      "0 % complete\n",
      "10 % complete\n",
      "20 % complete\n",
      "30 % complete\n",
      "40 % complete\n",
      "50 % complete\n",
      "60 % complete\n",
      "70 % complete\n",
      "80 % complete\n",
      "90 % complete\n",
      "Model  0 :  0.507968399813\n",
      "run time:  0 m 6.60225105286 s\n"
     ]
    }
   ],
   "source": [
    "#some more gpu tests\n",
    "param = {'max_depth':3, 'learning_rate':0.3, 'objective':'binary:logistic', 'updater':'grow_gpu'}\n",
    "param2 = {'max_depth':3, 'learning_rate':0.3, 'objective':'binary:logistic'}\n",
    "cv([param], [50])\n",
    "cv([param2], [50])"
   ]
  },
  {
   "cell_type": "markdown",
   "metadata": {},
   "source": []
  }
 ],
 "metadata": {
  "anaconda-cloud": {},
  "kernelspec": {
   "display_name": "Python 2",
   "language": "python",
   "name": "python2"
  },
  "language_info": {
   "codemirror_mode": {
    "name": "ipython",
    "version": 2
   },
   "file_extension": ".py",
   "mimetype": "text/x-python",
   "name": "python",
   "nbconvert_exporter": "python",
   "pygments_lexer": "ipython2",
   "version": "2.7.13"
  }
 },
 "nbformat": 4,
 "nbformat_minor": 1
}
